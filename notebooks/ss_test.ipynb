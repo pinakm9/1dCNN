{
 "cells": [
  {
   "cell_type": "code",
   "execution_count": 1,
   "id": "intermediate-parliament",
   "metadata": {},
   "outputs": [
    {
     "name": "stdout",
     "output_type": "stream",
     "text": [
      "C:\\Users\\pinak\\Documents\\GitHub\\1dCNN\n"
     ]
    }
   ],
   "source": [
    "# add modules folder to Python's search path\n",
    "import sys\n",
    "from pathlib import Path\n",
    "from os.path import dirname, realpath, abspath\n",
    "script_dir = Path(abspath(''))#Path(dirname(realpath(__file__)))\n",
    "module_dir = str(script_dir.parent)\n",
    "sys.path.insert(0, module_dir + '/modules')\n",
    "print(module_dir)\n",
    "# import rest of the modules\n",
    "import ex_data_gen as dg\n",
    "import cnn\n",
    "import numpy as np"
   ]
  },
  {
   "cell_type": "code",
   "execution_count": 2,
   "id": "thrown-aggregate",
   "metadata": {},
   "outputs": [
    {
     "data": {
      "image/png": "[encoded data removed]",
      "text/plain": [
       "<Figure size 432x432 with 1 Axes>"
      ]
     },
     "metadata": {
      "needs_background": "light"
     },
     "output_type": "display_data"
    }
   ],
   "source": [
    "ss = dg.ShapeSeries()\n",
    "series, _ = ss.gen_shape('triangle')\n",
    "ss.plot_shape(series)"
   ]
  },
  {
   "cell_type": "code",
   "execution_count": 3,
   "id": "spiritual-cathedral",
   "metadata": {},
   "outputs": [],
   "source": [
    "ss.create_dataset(500, '../data', train=True)\n",
    "ss.create_dataset(200, '../data', train=False)"
   ]
  },
  {
   "cell_type": "code",
   "execution_count": 4,
   "id": "representative-learning",
   "metadata": {},
   "outputs": [
    {
     "name": "stdout",
     "output_type": "stream",
     "text": [
      "(500, 100) (500, 4)\n"
     ]
    }
   ],
   "source": [
    "nn = cnn.OneDCNN()\n",
    "x_train = np.load('../data/train_data.npy')\n",
    "y_train = np.load('../data/train_labels.npy')\n",
    "x_test = np.load('../data/test_data.npy')\n",
    "y_test = np.load('../data/test_labels.npy')\n",
    "print(x_train.shape, y_train.shape)"
   ]
  },
  {
   "cell_type": "code",
   "execution_count": 5,
   "id": "later-snake",
   "metadata": {},
   "outputs": [
    {
     "name": "stdout",
     "output_type": "stream",
     "text": [
      "tf.Tensor(\n",
      "[[0.20945399 0.25965583 0.29574415 0.23514599]\n",
      " [0.2523344  0.24276507 0.255477   0.24942356]\n",
      " [0.21943335 0.29715917 0.2584325  0.22497495]\n",
      " ...\n",
      " [0.25258508 0.24903116 0.25075743 0.24762629]\n",
      " [0.23416    0.263495   0.27541414 0.22693081]\n",
      " [0.2119294  0.26276177 0.25291127 0.27239758]], shape=(500, 4), dtype=float32)\n"
     ]
    }
   ],
   "source": [
    "print(nn(x_train))"
   ]
  },
  {
   "cell_type": "code",
   "execution_count": 6,
   "id": "classified-pixel",
   "metadata": {},
   "outputs": [
    {
     "name": "stdout",
     "output_type": "stream",
     "text": [
      "Epoch 1/10\n",
      "16/16 [==============================] - 1s 44ms/step - loss: 1.3915 - accuracy: 0.2881 - val_loss: 1.3723 - val_accuracy: 0.3250\n",
      "Epoch 2/10\n",
      "16/16 [==============================] - 0s 5ms/step - loss: 1.3667 - accuracy: 0.4070 - val_loss: 1.3605 - val_accuracy: 0.4000\n",
      "Epoch 3/10\n",
      "16/16 [==============================] - 0s 5ms/step - loss: 1.3498 - accuracy: 0.4687 - val_loss: 1.3408 - val_accuracy: 0.4300\n",
      "Epoch 4/10\n",
      "16/16 [==============================] - 0s 5ms/step - loss: 1.3172 - accuracy: 0.5269 - val_loss: 1.3132 - val_accuracy: 0.4350\n",
      "Epoch 5/10\n",
      "16/16 [==============================] - 0s 5ms/step - loss: 1.2854 - accuracy: 0.5226 - val_loss: 1.2662 - val_accuracy: 0.5250\n",
      "Epoch 6/10\n",
      "16/16 [==============================] - 0s 5ms/step - loss: 1.2235 - accuracy: 0.6072 - val_loss: 1.1984 - val_accuracy: 0.5650\n",
      "Epoch 7/10\n",
      "16/16 [==============================] - 0s 5ms/step - loss: 1.1439 - accuracy: 0.6343 - val_loss: 1.1229 - val_accuracy: 0.5600\n",
      "Epoch 8/10\n",
      "16/16 [==============================] - 0s 5ms/step - loss: 1.0657 - accuracy: 0.6285 - val_loss: 1.0255 - val_accuracy: 0.6500\n",
      "Epoch 9/10\n",
      "16/16 [==============================] - 0s 5ms/step - loss: 0.9868 - accuracy: 0.6454 - val_loss: 0.9260 - val_accuracy: 0.6800\n",
      "Epoch 10/10\n",
      "16/16 [==============================] - 0s 5ms/step - loss: 0.8750 - accuracy: 0.7604 - val_loss: 0.8422 - val_accuracy: 0.7350\n"
     ]
    },
    {
     "data": {
      "text/plain": [
       "<tensorflow.python.keras.callbacks.History at 0x20d256f6040>"
      ]
     },
     "execution_count": 6,
     "metadata": {},
     "output_type": "execute_result"
    }
   ],
   "source": [
    "nn.compile(optimizer='adam', loss='categorical_crossentropy', metrics=['accuracy'])\n",
    "nn.fit(x_train, y_train, validation_data=(x_test, y_test), epochs=10)"
   ]
  },
  {
   "cell_type": "code",
   "execution_count": 9,
   "id": "appropriate-wisconsin",
   "metadata": {},
   "outputs": [
    {
     "name": "stdout",
     "output_type": "stream",
     "text": [
      "{0: 'rectangle', 1: 'triangle', 2: 'M', 3: 'U'}\n",
      "1\n"
     ]
    },
    {
     "data": {
      "text/plain": [
       "'triangle'"
      ]
     },
     "execution_count": 9,
     "metadata": {},
     "output_type": "execute_result"
    }
   ],
   "source": [
    "ss.dist_to_label(nn.call(series[np.newaxis, :]))"
   ]
  },
  {
   "cell_type": "code",
   "execution_count": null,
   "id": "common-glass",
   "metadata": {},
   "outputs": [],
   "source": []
  }
 ],
 "metadata": {
  "kernelspec": {
   "display_name": "Python 3",
   "language": "python",
   "name": "python3"
  },
  "language_info": {
   "codemirror_mode": {
    "name": "ipython",
    "version": 3
   },
   "file_extension": ".py",
   "mimetype": "text/x-python",
   "name": "python",
   "nbconvert_exporter": "python",
   "pygments_lexer": "ipython3",
   "version": "3.8.3"
  }
 },
 "nbformat": 4,
 "nbformat_minor": 5
}
